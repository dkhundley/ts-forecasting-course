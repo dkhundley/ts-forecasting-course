{
 "cells": [
  {
   "cell_type": "markdown",
   "id": "0df5164d",
   "metadata": {},
   "source": [
    "# Stack Overflow Dataset\n",
    "In this notebook, we'll begin by performing some preliminary work on a Stack Overflow dataset found from the Kaggle platform. [(Link to dataset on Kaggle)](https://www.kaggle.com/datasets/aishu200023/stackindex) "
   ]
  },
  {
   "cell_type": "markdown",
   "id": "9f3213a4",
   "metadata": {},
   "source": [
    "## Notebook Setup"
   ]
  },
  {
   "cell_type": "code",
   "execution_count": 1,
   "id": "0d02175c",
   "metadata": {
    "ExecuteTime": {
     "end_time": "2023-03-12T15:05:21.302641Z",
     "start_time": "2023-03-12T15:05:20.421019Z"
    }
   },
   "outputs": [],
   "source": [
    "# Importing the necessary Python libraries\n",
    "import pandas as pd"
   ]
  },
  {
   "cell_type": "code",
   "execution_count": 2,
   "id": "031a7963",
   "metadata": {
    "ExecuteTime": {
     "end_time": "2023-03-12T15:05:21.365994Z",
     "start_time": "2023-03-12T15:05:21.318606Z"
    }
   },
   "outputs": [],
   "source": [
    "# Loading in the Stack Overflow (SO) dataset as df\n",
    "df = pd.read_csv('../data/MLTollsStackOverflow.csv')"
   ]
  },
  {
   "cell_type": "code",
   "execution_count": 3,
   "id": "46e1b3c4",
   "metadata": {
    "ExecuteTime": {
     "end_time": "2023-03-12T15:05:21.420347Z",
     "start_time": "2023-03-12T15:05:21.373402Z"
    }
   },
   "outputs": [
    {
     "data": {
      "text/html": [
       "<div>\n",
       "<style scoped>\n",
       "    .dataframe tbody tr th:only-of-type {\n",
       "        vertical-align: middle;\n",
       "    }\n",
       "\n",
       "    .dataframe tbody tr th {\n",
       "        vertical-align: top;\n",
       "    }\n",
       "\n",
       "    .dataframe thead th {\n",
       "        text-align: right;\n",
       "    }\n",
       "</style>\n",
       "<table border=\"1\" class=\"dataframe\">\n",
       "  <thead>\n",
       "    <tr style=\"text-align: right;\">\n",
       "      <th></th>\n",
       "      <th>month</th>\n",
       "      <th>nltk</th>\n",
       "      <th>spacy</th>\n",
       "      <th>stanford-nlp</th>\n",
       "      <th>python</th>\n",
       "      <th>r</th>\n",
       "      <th>numpy</th>\n",
       "      <th>scipy</th>\n",
       "      <th>matlab</th>\n",
       "      <th>machine-learning</th>\n",
       "      <th>...</th>\n",
       "      <th>Plato</th>\n",
       "      <th>Sympy</th>\n",
       "      <th>Flair</th>\n",
       "      <th>stanford-nlp.1</th>\n",
       "      <th>pyqt</th>\n",
       "      <th>Nolearn</th>\n",
       "      <th>Lasagne</th>\n",
       "      <th>OCR</th>\n",
       "      <th>Apache-spark-mlib</th>\n",
       "      <th>azure-virtual-machine</th>\n",
       "    </tr>\n",
       "  </thead>\n",
       "  <tbody>\n",
       "    <tr>\n",
       "      <th>0</th>\n",
       "      <td>09-Jan</td>\n",
       "      <td>0</td>\n",
       "      <td>0</td>\n",
       "      <td>0</td>\n",
       "      <td>631</td>\n",
       "      <td>8</td>\n",
       "      <td>6</td>\n",
       "      <td>2</td>\n",
       "      <td>19</td>\n",
       "      <td>8</td>\n",
       "      <td>...</td>\n",
       "      <td>0</td>\n",
       "      <td>1</td>\n",
       "      <td>0</td>\n",
       "      <td>0</td>\n",
       "      <td>5</td>\n",
       "      <td>0</td>\n",
       "      <td>0</td>\n",
       "      <td>5</td>\n",
       "      <td>0</td>\n",
       "      <td>0</td>\n",
       "    </tr>\n",
       "    <tr>\n",
       "      <th>1</th>\n",
       "      <td>09-Feb</td>\n",
       "      <td>1</td>\n",
       "      <td>0</td>\n",
       "      <td>0</td>\n",
       "      <td>633</td>\n",
       "      <td>9</td>\n",
       "      <td>7</td>\n",
       "      <td>3</td>\n",
       "      <td>27</td>\n",
       "      <td>4</td>\n",
       "      <td>...</td>\n",
       "      <td>0</td>\n",
       "      <td>0</td>\n",
       "      <td>0</td>\n",
       "      <td>0</td>\n",
       "      <td>5</td>\n",
       "      <td>0</td>\n",
       "      <td>0</td>\n",
       "      <td>11</td>\n",
       "      <td>0</td>\n",
       "      <td>0</td>\n",
       "    </tr>\n",
       "    <tr>\n",
       "      <th>2</th>\n",
       "      <td>09-Mar</td>\n",
       "      <td>0</td>\n",
       "      <td>0</td>\n",
       "      <td>0</td>\n",
       "      <td>766</td>\n",
       "      <td>4</td>\n",
       "      <td>4</td>\n",
       "      <td>2</td>\n",
       "      <td>24</td>\n",
       "      <td>3</td>\n",
       "      <td>...</td>\n",
       "      <td>0</td>\n",
       "      <td>0</td>\n",
       "      <td>0</td>\n",
       "      <td>0</td>\n",
       "      <td>7</td>\n",
       "      <td>0</td>\n",
       "      <td>0</td>\n",
       "      <td>2</td>\n",
       "      <td>0</td>\n",
       "      <td>0</td>\n",
       "    </tr>\n",
       "    <tr>\n",
       "      <th>3</th>\n",
       "      <td>09-Apr</td>\n",
       "      <td>0</td>\n",
       "      <td>0</td>\n",
       "      <td>0</td>\n",
       "      <td>768</td>\n",
       "      <td>12</td>\n",
       "      <td>6</td>\n",
       "      <td>3</td>\n",
       "      <td>32</td>\n",
       "      <td>10</td>\n",
       "      <td>...</td>\n",
       "      <td>0</td>\n",
       "      <td>0</td>\n",
       "      <td>0</td>\n",
       "      <td>0</td>\n",
       "      <td>11</td>\n",
       "      <td>0</td>\n",
       "      <td>0</td>\n",
       "      <td>5</td>\n",
       "      <td>0</td>\n",
       "      <td>0</td>\n",
       "    </tr>\n",
       "    <tr>\n",
       "      <th>4</th>\n",
       "      <td>09-May</td>\n",
       "      <td>1</td>\n",
       "      <td>0</td>\n",
       "      <td>0</td>\n",
       "      <td>1003</td>\n",
       "      <td>2</td>\n",
       "      <td>7</td>\n",
       "      <td>2</td>\n",
       "      <td>42</td>\n",
       "      <td>7</td>\n",
       "      <td>...</td>\n",
       "      <td>0</td>\n",
       "      <td>0</td>\n",
       "      <td>0</td>\n",
       "      <td>0</td>\n",
       "      <td>10</td>\n",
       "      <td>0</td>\n",
       "      <td>0</td>\n",
       "      <td>3</td>\n",
       "      <td>0</td>\n",
       "      <td>0</td>\n",
       "    </tr>\n",
       "  </tbody>\n",
       "</table>\n",
       "<p>5 rows × 82 columns</p>\n",
       "</div>"
      ],
      "text/plain": [
       "    month  nltk  spacy  stanford-nlp  python   r  numpy  scipy  matlab  \\\n",
       "0  09-Jan     0      0             0     631   8      6      2      19   \n",
       "1  09-Feb     1      0             0     633   9      7      3      27   \n",
       "2  09-Mar     0      0             0     766   4      4      2      24   \n",
       "3  09-Apr     0      0             0     768  12      6      3      32   \n",
       "4  09-May     1      0             0    1003   2      7      2      42   \n",
       "\n",
       "   machine-learning  ...  Plato  Sympy  Flair  stanford-nlp.1  pyqt  Nolearn  \\\n",
       "0                 8  ...      0      1      0               0     5        0   \n",
       "1                 4  ...      0      0      0               0     5        0   \n",
       "2                 3  ...      0      0      0               0     7        0   \n",
       "3                10  ...      0      0      0               0    11        0   \n",
       "4                 7  ...      0      0      0               0    10        0   \n",
       "\n",
       "   Lasagne  OCR  Apache-spark-mlib  azure-virtual-machine  \n",
       "0        0    5                  0                      0  \n",
       "1        0   11                  0                      0  \n",
       "2        0    2                  0                      0  \n",
       "3        0    5                  0                      0  \n",
       "4        0    3                  0                      0  \n",
       "\n",
       "[5 rows x 82 columns]"
      ]
     },
     "execution_count": 3,
     "metadata": {},
     "output_type": "execute_result"
    }
   ],
   "source": [
    "# Viewing the first few rows of the dataset\n",
    "df.head()"
   ]
  },
  {
   "cell_type": "markdown",
   "id": "1346d0ae",
   "metadata": {},
   "source": [
    "## Interacting with the Dataset\n",
    "By default, this dataset manifests in what is referred to as a **wide format**. The first thing we will do is convert the DataFrame into what is referred to as the **long format**."
   ]
  },
  {
   "cell_type": "code",
   "execution_count": 4,
   "id": "a0ac6d7a",
   "metadata": {
    "ExecuteTime": {
     "end_time": "2023-03-12T15:05:21.453151Z",
     "start_time": "2023-03-12T15:05:21.428866Z"
    }
   },
   "outputs": [],
   "source": [
    "# Converting dataset from wide format to long format\n",
    "df_long = pd.melt(df, id_vars = 'month', var_name = 'topic', value_name = 'questions')"
   ]
  },
  {
   "cell_type": "code",
   "execution_count": 5,
   "id": "24f38ac2",
   "metadata": {
    "ExecuteTime": {
     "end_time": "2023-03-12T15:05:21.500710Z",
     "start_time": "2023-03-12T15:05:21.480123Z"
    }
   },
   "outputs": [
    {
     "data": {
      "text/html": [
       "<div>\n",
       "<style scoped>\n",
       "    .dataframe tbody tr th:only-of-type {\n",
       "        vertical-align: middle;\n",
       "    }\n",
       "\n",
       "    .dataframe tbody tr th {\n",
       "        vertical-align: top;\n",
       "    }\n",
       "\n",
       "    .dataframe thead th {\n",
       "        text-align: right;\n",
       "    }\n",
       "</style>\n",
       "<table border=\"1\" class=\"dataframe\">\n",
       "  <thead>\n",
       "    <tr style=\"text-align: right;\">\n",
       "      <th></th>\n",
       "      <th>month</th>\n",
       "      <th>topic</th>\n",
       "      <th>questions</th>\n",
       "    </tr>\n",
       "  </thead>\n",
       "  <tbody>\n",
       "    <tr>\n",
       "      <th>0</th>\n",
       "      <td>09-Jan</td>\n",
       "      <td>nltk</td>\n",
       "      <td>0.0</td>\n",
       "    </tr>\n",
       "    <tr>\n",
       "      <th>1</th>\n",
       "      <td>09-Feb</td>\n",
       "      <td>nltk</td>\n",
       "      <td>1.0</td>\n",
       "    </tr>\n",
       "    <tr>\n",
       "      <th>2</th>\n",
       "      <td>09-Mar</td>\n",
       "      <td>nltk</td>\n",
       "      <td>0.0</td>\n",
       "    </tr>\n",
       "    <tr>\n",
       "      <th>3</th>\n",
       "      <td>09-Apr</td>\n",
       "      <td>nltk</td>\n",
       "      <td>0.0</td>\n",
       "    </tr>\n",
       "    <tr>\n",
       "      <th>4</th>\n",
       "      <td>09-May</td>\n",
       "      <td>nltk</td>\n",
       "      <td>1.0</td>\n",
       "    </tr>\n",
       "    <tr>\n",
       "      <th>5</th>\n",
       "      <td>09-Jun</td>\n",
       "      <td>nltk</td>\n",
       "      <td>0.0</td>\n",
       "    </tr>\n",
       "    <tr>\n",
       "      <th>6</th>\n",
       "      <td>09-Jul</td>\n",
       "      <td>nltk</td>\n",
       "      <td>1.0</td>\n",
       "    </tr>\n",
       "    <tr>\n",
       "      <th>7</th>\n",
       "      <td>09-Aug</td>\n",
       "      <td>nltk</td>\n",
       "      <td>2.0</td>\n",
       "    </tr>\n",
       "    <tr>\n",
       "      <th>8</th>\n",
       "      <td>09-Sep</td>\n",
       "      <td>nltk</td>\n",
       "      <td>0.0</td>\n",
       "    </tr>\n",
       "    <tr>\n",
       "      <th>9</th>\n",
       "      <td>09-Oct</td>\n",
       "      <td>nltk</td>\n",
       "      <td>2.0</td>\n",
       "    </tr>\n",
       "  </tbody>\n",
       "</table>\n",
       "</div>"
      ],
      "text/plain": [
       "    month topic  questions\n",
       "0  09-Jan  nltk        0.0\n",
       "1  09-Feb  nltk        1.0\n",
       "2  09-Mar  nltk        0.0\n",
       "3  09-Apr  nltk        0.0\n",
       "4  09-May  nltk        1.0\n",
       "5  09-Jun  nltk        0.0\n",
       "6  09-Jul  nltk        1.0\n",
       "7  09-Aug  nltk        2.0\n",
       "8  09-Sep  nltk        0.0\n",
       "9  09-Oct  nltk        2.0"
      ]
     },
     "execution_count": 5,
     "metadata": {},
     "output_type": "execute_result"
    }
   ],
   "source": [
    "# Viewing the data now in long format\n",
    "df_long.head(10)"
   ]
  },
  {
   "cell_type": "code",
   "execution_count": 6,
   "id": "0ece1f5d",
   "metadata": {
    "ExecuteTime": {
     "end_time": "2023-03-12T15:05:21.511825Z",
     "start_time": "2023-03-12T15:05:21.501222Z"
    }
   },
   "outputs": [],
   "source": [
    "# Changing the "
   ]
  }
 ],
 "metadata": {
  "kernelspec": {
   "display_name": "Python 3 (ipykernel)",
   "language": "python",
   "name": "python3"
  },
  "language_info": {
   "codemirror_mode": {
    "name": "ipython",
    "version": 3
   },
   "file_extension": ".py",
   "mimetype": "text/x-python",
   "name": "python",
   "nbconvert_exporter": "python",
   "pygments_lexer": "ipython3",
   "version": "3.11.2"
  }
 },
 "nbformat": 4,
 "nbformat_minor": 5
}
