{
 "cells": [
  {
   "cell_type": "markdown",
   "id": "0df5164d",
   "metadata": {},
   "source": [
    "# Stack Overflow Dataset\n",
    "In this notebook, we'll begin by performing some preliminary work on a Stack Overflow dataset found from the Kaggle platform. [(Link to dataset on Kaggle)](https://www.kaggle.com/datasets/aishu200023/stackindex) "
   ]
  },
  {
   "cell_type": "markdown",
   "id": "9f3213a4",
   "metadata": {},
   "source": [
    "## Notebook Setup"
   ]
  },
  {
   "cell_type": "code",
   "execution_count": 1,
   "id": "0d02175c",
   "metadata": {
    "ExecuteTime": {
     "end_time": "2023-03-13T17:54:28.476554Z",
     "start_time": "2023-03-13T17:54:28.205979Z"
    }
   },
   "outputs": [],
   "source": [
    "# Importing the necessary Python libraries\n",
    "import pandas as pd"
   ]
  },
  {
   "cell_type": "code",
   "execution_count": 2,
   "id": "031a7963",
   "metadata": {
    "ExecuteTime": {
     "end_time": "2023-03-13T17:54:28.492034Z",
     "start_time": "2023-03-13T17:54:28.485885Z"
    }
   },
   "outputs": [],
   "source": [
    "# Loading in the Stack Overflow (SO) dataset as df\n",
    "df = pd.read_csv('../data/MLTollsStackOverflow.csv')"
   ]
  },
  {
   "cell_type": "code",
   "execution_count": 3,
   "id": "46e1b3c4",
   "metadata": {
    "ExecuteTime": {
     "end_time": "2023-03-13T17:54:28.503454Z",
     "start_time": "2023-03-13T17:54:28.495024Z"
    }
   },
   "outputs": [
    {
     "data": {
      "text/html": [
       "<div>\n",
       "<style scoped>\n",
       "    .dataframe tbody tr th:only-of-type {\n",
       "        vertical-align: middle;\n",
       "    }\n",
       "\n",
       "    .dataframe tbody tr th {\n",
       "        vertical-align: top;\n",
       "    }\n",
       "\n",
       "    .dataframe thead th {\n",
       "        text-align: right;\n",
       "    }\n",
       "</style>\n",
       "<table border=\"1\" class=\"dataframe\">\n",
       "  <thead>\n",
       "    <tr style=\"text-align: right;\">\n",
       "      <th></th>\n",
       "      <th>month</th>\n",
       "      <th>nltk</th>\n",
       "      <th>spacy</th>\n",
       "      <th>stanford-nlp</th>\n",
       "      <th>python</th>\n",
       "      <th>r</th>\n",
       "      <th>numpy</th>\n",
       "      <th>scipy</th>\n",
       "      <th>matlab</th>\n",
       "      <th>machine-learning</th>\n",
       "      <th>...</th>\n",
       "      <th>Plato</th>\n",
       "      <th>Sympy</th>\n",
       "      <th>Flair</th>\n",
       "      <th>stanford-nlp.1</th>\n",
       "      <th>pyqt</th>\n",
       "      <th>Nolearn</th>\n",
       "      <th>Lasagne</th>\n",
       "      <th>OCR</th>\n",
       "      <th>Apache-spark-mlib</th>\n",
       "      <th>azure-virtual-machine</th>\n",
       "    </tr>\n",
       "  </thead>\n",
       "  <tbody>\n",
       "    <tr>\n",
       "      <th>0</th>\n",
       "      <td>09-Jan</td>\n",
       "      <td>0</td>\n",
       "      <td>0</td>\n",
       "      <td>0</td>\n",
       "      <td>631</td>\n",
       "      <td>8</td>\n",
       "      <td>6</td>\n",
       "      <td>2</td>\n",
       "      <td>19</td>\n",
       "      <td>8</td>\n",
       "      <td>...</td>\n",
       "      <td>0</td>\n",
       "      <td>1</td>\n",
       "      <td>0</td>\n",
       "      <td>0</td>\n",
       "      <td>5</td>\n",
       "      <td>0</td>\n",
       "      <td>0</td>\n",
       "      <td>5</td>\n",
       "      <td>0</td>\n",
       "      <td>0</td>\n",
       "    </tr>\n",
       "    <tr>\n",
       "      <th>1</th>\n",
       "      <td>09-Feb</td>\n",
       "      <td>1</td>\n",
       "      <td>0</td>\n",
       "      <td>0</td>\n",
       "      <td>633</td>\n",
       "      <td>9</td>\n",
       "      <td>7</td>\n",
       "      <td>3</td>\n",
       "      <td>27</td>\n",
       "      <td>4</td>\n",
       "      <td>...</td>\n",
       "      <td>0</td>\n",
       "      <td>0</td>\n",
       "      <td>0</td>\n",
       "      <td>0</td>\n",
       "      <td>5</td>\n",
       "      <td>0</td>\n",
       "      <td>0</td>\n",
       "      <td>11</td>\n",
       "      <td>0</td>\n",
       "      <td>0</td>\n",
       "    </tr>\n",
       "    <tr>\n",
       "      <th>2</th>\n",
       "      <td>09-Mar</td>\n",
       "      <td>0</td>\n",
       "      <td>0</td>\n",
       "      <td>0</td>\n",
       "      <td>766</td>\n",
       "      <td>4</td>\n",
       "      <td>4</td>\n",
       "      <td>2</td>\n",
       "      <td>24</td>\n",
       "      <td>3</td>\n",
       "      <td>...</td>\n",
       "      <td>0</td>\n",
       "      <td>0</td>\n",
       "      <td>0</td>\n",
       "      <td>0</td>\n",
       "      <td>7</td>\n",
       "      <td>0</td>\n",
       "      <td>0</td>\n",
       "      <td>2</td>\n",
       "      <td>0</td>\n",
       "      <td>0</td>\n",
       "    </tr>\n",
       "    <tr>\n",
       "      <th>3</th>\n",
       "      <td>09-Apr</td>\n",
       "      <td>0</td>\n",
       "      <td>0</td>\n",
       "      <td>0</td>\n",
       "      <td>768</td>\n",
       "      <td>12</td>\n",
       "      <td>6</td>\n",
       "      <td>3</td>\n",
       "      <td>32</td>\n",
       "      <td>10</td>\n",
       "      <td>...</td>\n",
       "      <td>0</td>\n",
       "      <td>0</td>\n",
       "      <td>0</td>\n",
       "      <td>0</td>\n",
       "      <td>11</td>\n",
       "      <td>0</td>\n",
       "      <td>0</td>\n",
       "      <td>5</td>\n",
       "      <td>0</td>\n",
       "      <td>0</td>\n",
       "    </tr>\n",
       "    <tr>\n",
       "      <th>4</th>\n",
       "      <td>09-May</td>\n",
       "      <td>1</td>\n",
       "      <td>0</td>\n",
       "      <td>0</td>\n",
       "      <td>1003</td>\n",
       "      <td>2</td>\n",
       "      <td>7</td>\n",
       "      <td>2</td>\n",
       "      <td>42</td>\n",
       "      <td>7</td>\n",
       "      <td>...</td>\n",
       "      <td>0</td>\n",
       "      <td>0</td>\n",
       "      <td>0</td>\n",
       "      <td>0</td>\n",
       "      <td>10</td>\n",
       "      <td>0</td>\n",
       "      <td>0</td>\n",
       "      <td>3</td>\n",
       "      <td>0</td>\n",
       "      <td>0</td>\n",
       "    </tr>\n",
       "  </tbody>\n",
       "</table>\n",
       "<p>5 rows × 82 columns</p>\n",
       "</div>"
      ],
      "text/plain": [
       "    month  nltk  spacy  stanford-nlp  python   r  numpy  scipy  matlab  \\\n",
       "0  09-Jan     0      0             0     631   8      6      2      19   \n",
       "1  09-Feb     1      0             0     633   9      7      3      27   \n",
       "2  09-Mar     0      0             0     766   4      4      2      24   \n",
       "3  09-Apr     0      0             0     768  12      6      3      32   \n",
       "4  09-May     1      0             0    1003   2      7      2      42   \n",
       "\n",
       "   machine-learning  ...  Plato  Sympy  Flair  stanford-nlp.1  pyqt  Nolearn  \\\n",
       "0                 8  ...      0      1      0               0     5        0   \n",
       "1                 4  ...      0      0      0               0     5        0   \n",
       "2                 3  ...      0      0      0               0     7        0   \n",
       "3                10  ...      0      0      0               0    11        0   \n",
       "4                 7  ...      0      0      0               0    10        0   \n",
       "\n",
       "   Lasagne  OCR  Apache-spark-mlib  azure-virtual-machine  \n",
       "0        0    5                  0                      0  \n",
       "1        0   11                  0                      0  \n",
       "2        0    2                  0                      0  \n",
       "3        0    5                  0                      0  \n",
       "4        0    3                  0                      0  \n",
       "\n",
       "[5 rows x 82 columns]"
      ]
     },
     "execution_count": 3,
     "metadata": {},
     "output_type": "execute_result"
    }
   ],
   "source": [
    "# Viewing the first few rows of the dataset\n",
    "df.head()"
   ]
  },
  {
   "cell_type": "code",
   "execution_count": 4,
   "id": "19eec225",
   "metadata": {
    "ExecuteTime": {
     "end_time": "2023-03-13T17:54:28.509925Z",
     "start_time": "2023-03-13T17:54:28.504377Z"
    }
   },
   "outputs": [
    {
     "name": "stdout",
     "output_type": "stream",
     "text": [
      "<class 'pandas.core.frame.DataFrame'>\n",
      "RangeIndex: 132 entries, 0 to 131\n",
      "Data columns (total 82 columns):\n",
      " #   Column                 Non-Null Count  Dtype  \n",
      "---  ------                 --------------  -----  \n",
      " 0   month                  132 non-null    object \n",
      " 1   nltk                   132 non-null    int64  \n",
      " 2   spacy                  132 non-null    int64  \n",
      " 3   stanford-nlp           132 non-null    int64  \n",
      " 4   python                 132 non-null    int64  \n",
      " 5   r                      132 non-null    int64  \n",
      " 6   numpy                  132 non-null    int64  \n",
      " 7   scipy                  132 non-null    int64  \n",
      " 8   matlab                 132 non-null    int64  \n",
      " 9   machine-learning       132 non-null    int64  \n",
      " 10  pandas                 132 non-null    int64  \n",
      " 11  pytorch                132 non-null    int64  \n",
      " 12  keras                  132 non-null    int64  \n",
      " 13  nlp                    132 non-null    int64  \n",
      " 14  apache-spark           132 non-null    int64  \n",
      " 15  hadoop                 132 non-null    int64  \n",
      " 16  pyspark                132 non-null    int64  \n",
      " 17  python-3.x             132 non-null    int64  \n",
      " 18  tensorflow             132 non-null    int64  \n",
      " 19  deep-learning          132 non-null    int64  \n",
      " 20  neural-network         132 non-null    int64  \n",
      " 21  lstm                   132 non-null    int64  \n",
      " 22  time-series            132 non-null    int64  \n",
      " 23  pillow                 132 non-null    int64  \n",
      " 24  rasa                   132 non-null    int64  \n",
      " 25  opencv                 132 non-null    int64  \n",
      " 26  pipenv                 132 non-null    int64  \n",
      " 27  seaborn                132 non-null    int64  \n",
      " 28  Dask                   132 non-null    int64  \n",
      " 29  jupyter                132 non-null    int64  \n",
      " 30  AllenNLP               132 non-null    int64  \n",
      " 31  Theano                 132 non-null    int64  \n",
      " 32  plotly                 132 non-null    int64  \n",
      " 33  scikit-learn           132 non-null    int64  \n",
      " 34  BeautifulSoup          132 non-null    int64  \n",
      " 35  scrapy                 132 non-null    int64  \n",
      " 36  Gensim                 132 non-null    int64  \n",
      " 37  FastText               132 non-null    int64  \n",
      " 38  Pydot                  132 non-null    int64  \n",
      " 39  Pybrain                132 non-null    int64  \n",
      " 40  Pytil                  132 non-null    int64  \n",
      " 41  Pygame                 132 non-null    int64  \n",
      " 42  Colab                  132 non-null    int64  \n",
      " 43  Shogun                 132 non-null    int64  \n",
      " 44  KNIME                  132 non-null    int64  \n",
      " 45  Apache                 132 non-null    int64  \n",
      " 46  Gunicorn               132 non-null    int64  \n",
      " 47  Pygtk                  132 non-null    int64  \n",
      " 48  Weka                   132 non-null    int64  \n",
      " 49  Conda                  132 non-null    int64  \n",
      " 50  Ray                    132 non-null    int64  \n",
      " 51  matlab.1               132 non-null    int64  \n",
      " 52  accord.net             132 non-null    int64  \n",
      " 53  regression             132 non-null    int64  \n",
      " 54  classification         132 non-null    int64  \n",
      " 55  correlation            132 non-null    int64  \n",
      " 56  cluster-analysis       132 non-null    int64  \n",
      " 57  H2o                    132 non-null    int64  \n",
      " 58  Mallet                 132 non-null    int64  \n",
      " 59  Numba                  132 non-null    int64  \n",
      " 60  Tableau                108 non-null    float64\n",
      " 61  Trifacta               132 non-null    int64  \n",
      " 62  PyArrow                132 non-null    int64  \n",
      " 63  Rasterio               132 non-null    int64  \n",
      " 64  Orange3                132 non-null    int64  \n",
      " 65  PyMC3                  132 non-null    int64  \n",
      " 66  Opennn                 132 non-null    int64  \n",
      " 67  Oryx                   132 non-null    int64  \n",
      " 68  Istio                  132 non-null    int64  \n",
      " 69  Venes                  132 non-null    int64  \n",
      " 70  Plotnine               132 non-null    int64  \n",
      " 71  Gluon                  132 non-null    int64  \n",
      " 72  Plato                  132 non-null    int64  \n",
      " 73  Sympy                  132 non-null    int64  \n",
      " 74  Flair                  132 non-null    int64  \n",
      " 75  stanford-nlp.1         132 non-null    int64  \n",
      " 76  pyqt                   132 non-null    int64  \n",
      " 77  Nolearn                132 non-null    int64  \n",
      " 78  Lasagne                132 non-null    int64  \n",
      " 79  OCR                    132 non-null    int64  \n",
      " 80  Apache-spark-mlib      132 non-null    int64  \n",
      " 81  azure-virtual-machine  132 non-null    int64  \n",
      "dtypes: float64(1), int64(80), object(1)\n",
      "memory usage: 84.7+ KB\n"
     ]
    }
   ],
   "source": [
    "# Viewing general information about the dataset\n",
    "df.info()"
   ]
  },
  {
   "cell_type": "markdown",
   "id": "1346d0ae",
   "metadata": {},
   "source": [
    "## Converting the Dataset from Wide to Long Format\n",
    "By default, this dataset manifests in what is referred to as a **wide format**. The first thing we will do is convert the DataFrame into what is referred to as the **long format**. We can do this with the Pandas `melt()` function. In the cell below, melt function takes in 4 parameters: the original DataFrame, a new identification variable (`id_vars`), the name we will give to the variable containing all other columns in the current wide format (`var_name`), and a final column representing the value associated to the feature in is current wide format (`value_name`)."
   ]
  },
  {
   "cell_type": "code",
   "execution_count": 5,
   "id": "a0ac6d7a",
   "metadata": {
    "ExecuteTime": {
     "end_time": "2023-03-13T17:54:28.513834Z",
     "start_time": "2023-03-13T17:54:28.510825Z"
    }
   },
   "outputs": [],
   "source": [
    "# Converting dataset from wide format to long format\n",
    "df_long = pd.melt(df, id_vars = 'month', var_name = 'topic', value_name = 'questions')"
   ]
  },
  {
   "cell_type": "markdown",
   "id": "784622b9",
   "metadata": {},
   "source": [
    "Let's now convert the data types of the `month` and `topic` features appropriately. The reason we want to convert the `topic` feature into a `category` data type is because it is less memory intensive this way."
   ]
  },
  {
   "cell_type": "code",
   "execution_count": 6,
   "id": "782abda7",
   "metadata": {
    "ExecuteTime": {
     "end_time": "2023-03-13T17:54:28.518891Z",
     "start_time": "2023-03-13T17:54:28.514727Z"
    }
   },
   "outputs": [],
   "source": [
    "# Converting the \"month\" feature into an appropriate \"datetime\" data type\n",
    "df_long['month'] = pd.to_datetime(df_long['month'], format = \"%y-%b\")\n",
    "\n",
    "# Converting the \"topic\" feature into an appropriate \"category\" data type\n",
    "df_long['topic'] = df_long.topic.astype('category')"
   ]
  },
  {
   "cell_type": "markdown",
   "id": "03af1ffa",
   "metadata": {
    "ExecuteTime": {
     "end_time": "2023-03-13T17:10:24.377009Z",
     "start_time": "2023-03-13T17:10:24.361834Z"
    }
   },
   "source": [
    "Time-series data becomes easier to work wtih if you choose to use custom indices. Let's do that in the next cell."
   ]
  },
  {
   "cell_type": "code",
   "execution_count": 7,
   "id": "0ece1f5d",
   "metadata": {
    "ExecuteTime": {
     "end_time": "2023-03-13T17:54:28.523820Z",
     "start_time": "2023-03-13T17:54:28.519578Z"
    }
   },
   "outputs": [],
   "source": [
    "# Re-indexing our data based on month and then topic\n",
    "df_long = df_long.set_index(['month', 'topic']).sort_index()"
   ]
  },
  {
   "cell_type": "code",
   "execution_count": 8,
   "id": "8cd72295",
   "metadata": {
    "ExecuteTime": {
     "end_time": "2023-03-13T17:54:28.527645Z",
     "start_time": "2023-03-13T17:54:28.524586Z"
    }
   },
   "outputs": [
    {
     "data": {
      "text/plain": [
       "1.0"
      ]
     },
     "execution_count": 8,
     "metadata": {},
     "output_type": "execute_result"
    }
   ],
   "source": [
    "# Viewing a piece of the re-indexed data at a specific location\n",
    "df_long.loc[('2009-02-01', 'nltk'), 'questions']"
   ]
  },
  {
   "cell_type": "code",
   "execution_count": 9,
   "id": "9d893106",
   "metadata": {
    "ExecuteTime": {
     "end_time": "2023-03-13T17:54:28.534503Z",
     "start_time": "2023-03-13T17:54:28.530005Z"
    }
   },
   "outputs": [
    {
     "data": {
      "text/plain": [
       "month       topic\n",
       "2009-02-01  nltk     1.0\n",
       "2009-03-01  nltk     0.0\n",
       "2009-04-01  nltk     0.0\n",
       "2009-05-01  nltk     1.0\n",
       "2009-06-01  nltk     0.0\n",
       "Name: questions, dtype: float64"
      ]
     },
     "execution_count": 9,
     "metadata": {},
     "output_type": "execute_result"
    }
   ],
   "source": [
    "# Viewing a slice of the re-indexed data with a provided date range\n",
    "df_long.loc['2009-02-01':'2009-06-01', 'nltk', :]['questions']"
   ]
  },
  {
   "cell_type": "code",
   "execution_count": 10,
   "id": "56b02a8d",
   "metadata": {
    "ExecuteTime": {
     "end_time": "2023-03-13T17:54:28.539348Z",
     "start_time": "2023-03-13T17:54:28.535295Z"
    }
   },
   "outputs": [
    {
     "data": {
      "text/html": [
       "<div>\n",
       "<style scoped>\n",
       "    .dataframe tbody tr th:only-of-type {\n",
       "        vertical-align: middle;\n",
       "    }\n",
       "\n",
       "    .dataframe tbody tr th {\n",
       "        vertical-align: top;\n",
       "    }\n",
       "\n",
       "    .dataframe thead th {\n",
       "        text-align: right;\n",
       "    }\n",
       "</style>\n",
       "<table border=\"1\" class=\"dataframe\">\n",
       "  <thead>\n",
       "    <tr style=\"text-align: right;\">\n",
       "      <th></th>\n",
       "      <th></th>\n",
       "      <th>questions</th>\n",
       "    </tr>\n",
       "    <tr>\n",
       "      <th>month</th>\n",
       "      <th>topic</th>\n",
       "      <th></th>\n",
       "    </tr>\n",
       "  </thead>\n",
       "  <tbody>\n",
       "    <tr>\n",
       "      <th rowspan=\"10\" valign=\"top\">2009-01-01</th>\n",
       "      <th>AllenNLP</th>\n",
       "      <td>0.0</td>\n",
       "    </tr>\n",
       "    <tr>\n",
       "      <th>Apache</th>\n",
       "      <td>95.0</td>\n",
       "    </tr>\n",
       "    <tr>\n",
       "      <th>Apache-spark-mlib</th>\n",
       "      <td>0.0</td>\n",
       "    </tr>\n",
       "    <tr>\n",
       "      <th>BeautifulSoup</th>\n",
       "      <td>5.0</td>\n",
       "    </tr>\n",
       "    <tr>\n",
       "      <th>Colab</th>\n",
       "      <td>0.0</td>\n",
       "    </tr>\n",
       "    <tr>\n",
       "      <th>Conda</th>\n",
       "      <td>0.0</td>\n",
       "    </tr>\n",
       "    <tr>\n",
       "      <th>Dask</th>\n",
       "      <td>0.0</td>\n",
       "    </tr>\n",
       "    <tr>\n",
       "      <th>FastText</th>\n",
       "      <td>0.0</td>\n",
       "    </tr>\n",
       "    <tr>\n",
       "      <th>Flair</th>\n",
       "      <td>0.0</td>\n",
       "    </tr>\n",
       "    <tr>\n",
       "      <th>Gensim</th>\n",
       "      <td>0.0</td>\n",
       "    </tr>\n",
       "  </tbody>\n",
       "</table>\n",
       "</div>"
      ],
      "text/plain": [
       "                              questions\n",
       "month      topic                       \n",
       "2009-01-01 AllenNLP                 0.0\n",
       "           Apache                  95.0\n",
       "           Apache-spark-mlib        0.0\n",
       "           BeautifulSoup            5.0\n",
       "           Colab                    0.0\n",
       "           Conda                    0.0\n",
       "           Dask                     0.0\n",
       "           FastText                 0.0\n",
       "           Flair                    0.0\n",
       "           Gensim                   0.0"
      ]
     },
     "execution_count": 10,
     "metadata": {},
     "output_type": "execute_result"
    }
   ],
   "source": [
    "# Viewing the current output so far\n",
    "df_long.head(10)"
   ]
  },
  {
   "cell_type": "markdown",
   "id": "3ba0d202",
   "metadata": {},
   "source": [
    "## Chaining Methods Together\n",
    "Now that we have completed the work so far as separate cells, let's see how we can chain them all together using Pandas' `pipe()` and `assign()` functions. The `pipe()` function is very similar to Linux's pipe character (`|`) as it essentially pipes the outputs of one command as inputs to the next. The `assign()` function returns a new dataframe object with all the original columns in addition to new ones that have been appropriately altered. In our case, we are altering the data types of the `month` and `topic` features appropriately."
   ]
  },
  {
   "cell_type": "code",
   "execution_count": 11,
   "id": "d266d6ac",
   "metadata": {
    "ExecuteTime": {
     "end_time": "2023-03-13T17:54:28.555069Z",
     "start_time": "2023-03-13T17:54:28.540220Z"
    }
   },
   "outputs": [
    {
     "data": {
      "text/html": [
       "<div>\n",
       "<style scoped>\n",
       "    .dataframe tbody tr th:only-of-type {\n",
       "        vertical-align: middle;\n",
       "    }\n",
       "\n",
       "    .dataframe tbody tr th {\n",
       "        vertical-align: top;\n",
       "    }\n",
       "\n",
       "    .dataframe thead th {\n",
       "        text-align: right;\n",
       "    }\n",
       "</style>\n",
       "<table border=\"1\" class=\"dataframe\">\n",
       "  <thead>\n",
       "    <tr style=\"text-align: right;\">\n",
       "      <th></th>\n",
       "      <th>month</th>\n",
       "      <th>topic</th>\n",
       "      <th>questions</th>\n",
       "    </tr>\n",
       "  </thead>\n",
       "  <tbody>\n",
       "    <tr>\n",
       "      <th>0</th>\n",
       "      <td>2009-01-01</td>\n",
       "      <td>nltk</td>\n",
       "      <td>0.0</td>\n",
       "    </tr>\n",
       "    <tr>\n",
       "      <th>1</th>\n",
       "      <td>2009-02-01</td>\n",
       "      <td>nltk</td>\n",
       "      <td>1.0</td>\n",
       "    </tr>\n",
       "    <tr>\n",
       "      <th>2</th>\n",
       "      <td>2009-03-01</td>\n",
       "      <td>nltk</td>\n",
       "      <td>0.0</td>\n",
       "    </tr>\n",
       "    <tr>\n",
       "      <th>3</th>\n",
       "      <td>2009-04-01</td>\n",
       "      <td>nltk</td>\n",
       "      <td>0.0</td>\n",
       "    </tr>\n",
       "    <tr>\n",
       "      <th>4</th>\n",
       "      <td>2009-05-01</td>\n",
       "      <td>nltk</td>\n",
       "      <td>1.0</td>\n",
       "    </tr>\n",
       "    <tr>\n",
       "      <th>...</th>\n",
       "      <td>...</td>\n",
       "      <td>...</td>\n",
       "      <td>...</td>\n",
       "    </tr>\n",
       "    <tr>\n",
       "      <th>10687</th>\n",
       "      <td>2019-08-01</td>\n",
       "      <td>azure-virtual-machine</td>\n",
       "      <td>25.0</td>\n",
       "    </tr>\n",
       "    <tr>\n",
       "      <th>10688</th>\n",
       "      <td>2019-09-01</td>\n",
       "      <td>azure-virtual-machine</td>\n",
       "      <td>16.0</td>\n",
       "    </tr>\n",
       "    <tr>\n",
       "      <th>10689</th>\n",
       "      <td>2019-10-01</td>\n",
       "      <td>azure-virtual-machine</td>\n",
       "      <td>19.0</td>\n",
       "    </tr>\n",
       "    <tr>\n",
       "      <th>10690</th>\n",
       "      <td>2019-11-01</td>\n",
       "      <td>azure-virtual-machine</td>\n",
       "      <td>19.0</td>\n",
       "    </tr>\n",
       "    <tr>\n",
       "      <th>10691</th>\n",
       "      <td>2019-12-01</td>\n",
       "      <td>azure-virtual-machine</td>\n",
       "      <td>18.0</td>\n",
       "    </tr>\n",
       "  </tbody>\n",
       "</table>\n",
       "<p>10692 rows × 3 columns</p>\n",
       "</div>"
      ],
      "text/plain": [
       "           month                  topic  questions\n",
       "0     2009-01-01                   nltk        0.0\n",
       "1     2009-02-01                   nltk        1.0\n",
       "2     2009-03-01                   nltk        0.0\n",
       "3     2009-04-01                   nltk        0.0\n",
       "4     2009-05-01                   nltk        1.0\n",
       "...          ...                    ...        ...\n",
       "10687 2019-08-01  azure-virtual-machine       25.0\n",
       "10688 2019-09-01  azure-virtual-machine       16.0\n",
       "10689 2019-10-01  azure-virtual-machine       19.0\n",
       "10690 2019-11-01  azure-virtual-machine       19.0\n",
       "10691 2019-12-01  azure-virtual-machine       18.0\n",
       "\n",
       "[10692 rows x 3 columns]"
      ]
     },
     "metadata": {},
     "output_type": "display_data"
    },
    {
     "data": {
      "text/html": [
       "<div>\n",
       "<style scoped>\n",
       "    .dataframe tbody tr th:only-of-type {\n",
       "        vertical-align: middle;\n",
       "    }\n",
       "\n",
       "    .dataframe tbody tr th {\n",
       "        vertical-align: top;\n",
       "    }\n",
       "\n",
       "    .dataframe thead th {\n",
       "        text-align: right;\n",
       "    }\n",
       "</style>\n",
       "<table border=\"1\" class=\"dataframe\">\n",
       "  <thead>\n",
       "    <tr style=\"text-align: right;\">\n",
       "      <th></th>\n",
       "      <th></th>\n",
       "      <th>questions</th>\n",
       "    </tr>\n",
       "    <tr>\n",
       "      <th>month</th>\n",
       "      <th>topic</th>\n",
       "      <th></th>\n",
       "    </tr>\n",
       "  </thead>\n",
       "  <tbody>\n",
       "    <tr>\n",
       "      <th rowspan=\"5\" valign=\"top\">2009-01-01</th>\n",
       "      <th>AllenNLP</th>\n",
       "      <td>0.0</td>\n",
       "    </tr>\n",
       "    <tr>\n",
       "      <th>Apache</th>\n",
       "      <td>95.0</td>\n",
       "    </tr>\n",
       "    <tr>\n",
       "      <th>Apache-spark-mlib</th>\n",
       "      <td>0.0</td>\n",
       "    </tr>\n",
       "    <tr>\n",
       "      <th>BeautifulSoup</th>\n",
       "      <td>5.0</td>\n",
       "    </tr>\n",
       "    <tr>\n",
       "      <th>Colab</th>\n",
       "      <td>0.0</td>\n",
       "    </tr>\n",
       "    <tr>\n",
       "      <th>...</th>\n",
       "      <th>...</th>\n",
       "      <td>...</td>\n",
       "    </tr>\n",
       "    <tr>\n",
       "      <th rowspan=\"5\" valign=\"top\">2019-12-01</th>\n",
       "      <th>spacy</th>\n",
       "      <td>72.0</td>\n",
       "    </tr>\n",
       "    <tr>\n",
       "      <th>stanford-nlp</th>\n",
       "      <td>13.0</td>\n",
       "    </tr>\n",
       "    <tr>\n",
       "      <th>stanford-nlp.1</th>\n",
       "      <td>13.0</td>\n",
       "    </tr>\n",
       "    <tr>\n",
       "      <th>tensorflow</th>\n",
       "      <td>1392.0</td>\n",
       "    </tr>\n",
       "    <tr>\n",
       "      <th>time-series</th>\n",
       "      <td>185.0</td>\n",
       "    </tr>\n",
       "  </tbody>\n",
       "</table>\n",
       "<p>10692 rows × 1 columns</p>\n",
       "</div>"
      ],
      "text/plain": [
       "                              questions\n",
       "month      topic                       \n",
       "2009-01-01 AllenNLP                 0.0\n",
       "           Apache                  95.0\n",
       "           Apache-spark-mlib        0.0\n",
       "           BeautifulSoup            5.0\n",
       "           Colab                    0.0\n",
       "...                                 ...\n",
       "2019-12-01 spacy                   72.0\n",
       "           stanford-nlp            13.0\n",
       "           stanford-nlp.1          13.0\n",
       "           tensorflow            1392.0\n",
       "           time-series            185.0\n",
       "\n",
       "[10692 rows x 1 columns]"
      ]
     },
     "metadata": {},
     "output_type": "display_data"
    }
   ],
   "source": [
    "# Import Jupyter's \"display\" functionality to view the outputted results appropriately\n",
    "from IPython.display import display\n",
    "\n",
    "# Performing all the same actions above except chained together\n",
    "df = (\n",
    "    pd.read_csv('../data/MLTollsStackOverflow.csv')\n",
    "    .pipe(lambda df: pd.melt(df, id_vars = 'month', var_name = 'topic', value_name = 'questions'))\n",
    "    .assign(\n",
    "        month = lambda df: pd.to_datetime(df['month'], format = '%y-%b'),\n",
    "        topic = lambda df: df['topic'].astype('category')\n",
    "    )\n",
    "    .pipe(lambda df: display(df) or df)\n",
    "    .set_index(['month', 'topic'])\n",
    "    .sort_index()\n",
    "    .pipe(lambda df: display(df) or df)\n",
    ")"
   ]
  },
  {
   "cell_type": "markdown",
   "id": "536b43aa",
   "metadata": {
    "ExecuteTime": {
     "end_time": "2023-03-13T17:32:51.082011Z",
     "start_time": "2023-03-13T17:32:51.060294Z"
    }
   },
   "source": [
    "## Data Visualization\n",
    "Let's now move into visualizing the data in the next set of cells. In the immediate next cell, we will make use of Pandas' `unstack()` function to essentially un-pivot our DataFrame prior to visualizing it."
   ]
  },
  {
   "cell_type": "code",
   "execution_count": 12,
   "id": "6a4b0b2b",
   "metadata": {
    "ExecuteTime": {
     "end_time": "2023-03-13T17:54:28.571843Z",
     "start_time": "2023-03-13T17:54:28.556002Z"
    }
   },
   "outputs": [
    {
     "data": {
      "text/html": [
       "<div>\n",
       "<style scoped>\n",
       "    .dataframe tbody tr th:only-of-type {\n",
       "        vertical-align: middle;\n",
       "    }\n",
       "\n",
       "    .dataframe tbody tr th {\n",
       "        vertical-align: top;\n",
       "    }\n",
       "\n",
       "    .dataframe thead tr th {\n",
       "        text-align: left;\n",
       "    }\n",
       "\n",
       "    .dataframe thead tr:last-of-type th {\n",
       "        text-align: right;\n",
       "    }\n",
       "</style>\n",
       "<table border=\"1\" class=\"dataframe\">\n",
       "  <thead>\n",
       "    <tr>\n",
       "      <th></th>\n",
       "      <th colspan=\"21\" halign=\"left\">questions</th>\n",
       "    </tr>\n",
       "    <tr>\n",
       "      <th>topic</th>\n",
       "      <th>AllenNLP</th>\n",
       "      <th>Apache</th>\n",
       "      <th>Apache-spark-mlib</th>\n",
       "      <th>BeautifulSoup</th>\n",
       "      <th>Colab</th>\n",
       "      <th>Conda</th>\n",
       "      <th>Dask</th>\n",
       "      <th>FastText</th>\n",
       "      <th>Flair</th>\n",
       "      <th>Gensim</th>\n",
       "      <th>...</th>\n",
       "      <th>regression</th>\n",
       "      <th>scikit-learn</th>\n",
       "      <th>scipy</th>\n",
       "      <th>scrapy</th>\n",
       "      <th>seaborn</th>\n",
       "      <th>spacy</th>\n",
       "      <th>stanford-nlp</th>\n",
       "      <th>stanford-nlp.1</th>\n",
       "      <th>tensorflow</th>\n",
       "      <th>time-series</th>\n",
       "    </tr>\n",
       "    <tr>\n",
       "      <th>month</th>\n",
       "      <th></th>\n",
       "      <th></th>\n",
       "      <th></th>\n",
       "      <th></th>\n",
       "      <th></th>\n",
       "      <th></th>\n",
       "      <th></th>\n",
       "      <th></th>\n",
       "      <th></th>\n",
       "      <th></th>\n",
       "      <th></th>\n",
       "      <th></th>\n",
       "      <th></th>\n",
       "      <th></th>\n",
       "      <th></th>\n",
       "      <th></th>\n",
       "      <th></th>\n",
       "      <th></th>\n",
       "      <th></th>\n",
       "      <th></th>\n",
       "      <th></th>\n",
       "    </tr>\n",
       "  </thead>\n",
       "  <tbody>\n",
       "    <tr>\n",
       "      <th>2009-01-01</th>\n",
       "      <td>0.0</td>\n",
       "      <td>95.0</td>\n",
       "      <td>0.0</td>\n",
       "      <td>5.0</td>\n",
       "      <td>0.0</td>\n",
       "      <td>0.0</td>\n",
       "      <td>0.0</td>\n",
       "      <td>0.0</td>\n",
       "      <td>0.0</td>\n",
       "      <td>0.0</td>\n",
       "      <td>...</td>\n",
       "      <td>1.0</td>\n",
       "      <td>0.0</td>\n",
       "      <td>2.0</td>\n",
       "      <td>0.0</td>\n",
       "      <td>0.0</td>\n",
       "      <td>0.0</td>\n",
       "      <td>0.0</td>\n",
       "      <td>0.0</td>\n",
       "      <td>0.0</td>\n",
       "      <td>1.0</td>\n",
       "    </tr>\n",
       "    <tr>\n",
       "      <th>2009-02-01</th>\n",
       "      <td>0.0</td>\n",
       "      <td>114.0</td>\n",
       "      <td>0.0</td>\n",
       "      <td>4.0</td>\n",
       "      <td>0.0</td>\n",
       "      <td>0.0</td>\n",
       "      <td>0.0</td>\n",
       "      <td>0.0</td>\n",
       "      <td>0.0</td>\n",
       "      <td>0.0</td>\n",
       "      <td>...</td>\n",
       "      <td>3.0</td>\n",
       "      <td>0.0</td>\n",
       "      <td>3.0</td>\n",
       "      <td>0.0</td>\n",
       "      <td>0.0</td>\n",
       "      <td>0.0</td>\n",
       "      <td>0.0</td>\n",
       "      <td>0.0</td>\n",
       "      <td>0.0</td>\n",
       "      <td>2.0</td>\n",
       "    </tr>\n",
       "    <tr>\n",
       "      <th>2009-03-01</th>\n",
       "      <td>0.0</td>\n",
       "      <td>104.0</td>\n",
       "      <td>0.0</td>\n",
       "      <td>8.0</td>\n",
       "      <td>0.0</td>\n",
       "      <td>0.0</td>\n",
       "      <td>0.0</td>\n",
       "      <td>0.0</td>\n",
       "      <td>0.0</td>\n",
       "      <td>0.0</td>\n",
       "      <td>...</td>\n",
       "      <td>0.0</td>\n",
       "      <td>0.0</td>\n",
       "      <td>2.0</td>\n",
       "      <td>0.0</td>\n",
       "      <td>0.0</td>\n",
       "      <td>0.0</td>\n",
       "      <td>0.0</td>\n",
       "      <td>0.0</td>\n",
       "      <td>0.0</td>\n",
       "      <td>1.0</td>\n",
       "    </tr>\n",
       "    <tr>\n",
       "      <th>2009-04-01</th>\n",
       "      <td>0.0</td>\n",
       "      <td>111.0</td>\n",
       "      <td>0.0</td>\n",
       "      <td>3.0</td>\n",
       "      <td>0.0</td>\n",
       "      <td>0.0</td>\n",
       "      <td>0.0</td>\n",
       "      <td>0.0</td>\n",
       "      <td>0.0</td>\n",
       "      <td>0.0</td>\n",
       "      <td>...</td>\n",
       "      <td>0.0</td>\n",
       "      <td>0.0</td>\n",
       "      <td>3.0</td>\n",
       "      <td>0.0</td>\n",
       "      <td>0.0</td>\n",
       "      <td>0.0</td>\n",
       "      <td>0.0</td>\n",
       "      <td>0.0</td>\n",
       "      <td>0.0</td>\n",
       "      <td>0.0</td>\n",
       "    </tr>\n",
       "    <tr>\n",
       "      <th>2009-05-01</th>\n",
       "      <td>0.0</td>\n",
       "      <td>127.0</td>\n",
       "      <td>0.0</td>\n",
       "      <td>14.0</td>\n",
       "      <td>0.0</td>\n",
       "      <td>0.0</td>\n",
       "      <td>0.0</td>\n",
       "      <td>0.0</td>\n",
       "      <td>0.0</td>\n",
       "      <td>0.0</td>\n",
       "      <td>...</td>\n",
       "      <td>2.0</td>\n",
       "      <td>0.0</td>\n",
       "      <td>2.0</td>\n",
       "      <td>0.0</td>\n",
       "      <td>0.0</td>\n",
       "      <td>0.0</td>\n",
       "      <td>0.0</td>\n",
       "      <td>0.0</td>\n",
       "      <td>0.0</td>\n",
       "      <td>0.0</td>\n",
       "    </tr>\n",
       "    <tr>\n",
       "      <th>...</th>\n",
       "      <td>...</td>\n",
       "      <td>...</td>\n",
       "      <td>...</td>\n",
       "      <td>...</td>\n",
       "      <td>...</td>\n",
       "      <td>...</td>\n",
       "      <td>...</td>\n",
       "      <td>...</td>\n",
       "      <td>...</td>\n",
       "      <td>...</td>\n",
       "      <td>...</td>\n",
       "      <td>...</td>\n",
       "      <td>...</td>\n",
       "      <td>...</td>\n",
       "      <td>...</td>\n",
       "      <td>...</td>\n",
       "      <td>...</td>\n",
       "      <td>...</td>\n",
       "      <td>...</td>\n",
       "      <td>...</td>\n",
       "      <td>...</td>\n",
       "    </tr>\n",
       "    <tr>\n",
       "      <th>2019-08-01</th>\n",
       "      <td>0.0</td>\n",
       "      <td>388.0</td>\n",
       "      <td>16.0</td>\n",
       "      <td>322.0</td>\n",
       "      <td>91.0</td>\n",
       "      <td>91.0</td>\n",
       "      <td>66.0</td>\n",
       "      <td>6.0</td>\n",
       "      <td>0.0</td>\n",
       "      <td>30.0</td>\n",
       "      <td>...</td>\n",
       "      <td>60.0</td>\n",
       "      <td>323.0</td>\n",
       "      <td>212.0</td>\n",
       "      <td>205.0</td>\n",
       "      <td>119.0</td>\n",
       "      <td>76.0</td>\n",
       "      <td>24.0</td>\n",
       "      <td>22.0</td>\n",
       "      <td>1332.0</td>\n",
       "      <td>141.0</td>\n",
       "    </tr>\n",
       "    <tr>\n",
       "      <th>2019-09-01</th>\n",
       "      <td>1.0</td>\n",
       "      <td>435.0</td>\n",
       "      <td>28.0</td>\n",
       "      <td>330.0</td>\n",
       "      <td>103.0</td>\n",
       "      <td>103.0</td>\n",
       "      <td>73.0</td>\n",
       "      <td>14.0</td>\n",
       "      <td>0.0</td>\n",
       "      <td>30.0</td>\n",
       "      <td>...</td>\n",
       "      <td>76.0</td>\n",
       "      <td>324.0</td>\n",
       "      <td>135.0</td>\n",
       "      <td>146.0</td>\n",
       "      <td>90.0</td>\n",
       "      <td>62.0</td>\n",
       "      <td>16.0</td>\n",
       "      <td>15.0</td>\n",
       "      <td>1217.0</td>\n",
       "      <td>156.0</td>\n",
       "    </tr>\n",
       "    <tr>\n",
       "      <th>2019-10-01</th>\n",
       "      <td>0.0</td>\n",
       "      <td>402.0</td>\n",
       "      <td>21.0</td>\n",
       "      <td>350.0</td>\n",
       "      <td>120.0</td>\n",
       "      <td>120.0</td>\n",
       "      <td>73.0</td>\n",
       "      <td>15.0</td>\n",
       "      <td>0.0</td>\n",
       "      <td>27.0</td>\n",
       "      <td>...</td>\n",
       "      <td>125.0</td>\n",
       "      <td>415.0</td>\n",
       "      <td>188.0</td>\n",
       "      <td>165.0</td>\n",
       "      <td>130.0</td>\n",
       "      <td>79.0</td>\n",
       "      <td>27.0</td>\n",
       "      <td>27.0</td>\n",
       "      <td>1468.0</td>\n",
       "      <td>203.0</td>\n",
       "    </tr>\n",
       "    <tr>\n",
       "      <th>2019-11-01</th>\n",
       "      <td>2.0</td>\n",
       "      <td>407.0</td>\n",
       "      <td>16.0</td>\n",
       "      <td>376.0</td>\n",
       "      <td>108.0</td>\n",
       "      <td>108.0</td>\n",
       "      <td>91.0</td>\n",
       "      <td>10.0</td>\n",
       "      <td>2.0</td>\n",
       "      <td>42.0</td>\n",
       "      <td>...</td>\n",
       "      <td>137.0</td>\n",
       "      <td>412.0</td>\n",
       "      <td>199.0</td>\n",
       "      <td>176.0</td>\n",
       "      <td>133.0</td>\n",
       "      <td>79.0</td>\n",
       "      <td>14.0</td>\n",
       "      <td>14.0</td>\n",
       "      <td>1513.0</td>\n",
       "      <td>182.0</td>\n",
       "    </tr>\n",
       "    <tr>\n",
       "      <th>2019-12-01</th>\n",
       "      <td>0.0</td>\n",
       "      <td>439.0</td>\n",
       "      <td>16.0</td>\n",
       "      <td>315.0</td>\n",
       "      <td>125.0</td>\n",
       "      <td>125.0</td>\n",
       "      <td>77.0</td>\n",
       "      <td>9.0</td>\n",
       "      <td>0.0</td>\n",
       "      <td>30.0</td>\n",
       "      <td>...</td>\n",
       "      <td>134.0</td>\n",
       "      <td>439.0</td>\n",
       "      <td>159.0</td>\n",
       "      <td>140.0</td>\n",
       "      <td>112.0</td>\n",
       "      <td>72.0</td>\n",
       "      <td>13.0</td>\n",
       "      <td>13.0</td>\n",
       "      <td>1392.0</td>\n",
       "      <td>185.0</td>\n",
       "    </tr>\n",
       "  </tbody>\n",
       "</table>\n",
       "<p>132 rows × 81 columns</p>\n",
       "</div>"
      ],
      "text/plain": [
       "           questions                                                       \\\n",
       "topic       AllenNLP Apache Apache-spark-mlib BeautifulSoup  Colab  Conda   \n",
       "month                                                                       \n",
       "2009-01-01       0.0   95.0               0.0           5.0    0.0    0.0   \n",
       "2009-02-01       0.0  114.0               0.0           4.0    0.0    0.0   \n",
       "2009-03-01       0.0  104.0               0.0           8.0    0.0    0.0   \n",
       "2009-04-01       0.0  111.0               0.0           3.0    0.0    0.0   \n",
       "2009-05-01       0.0  127.0               0.0          14.0    0.0    0.0   \n",
       "...              ...    ...               ...           ...    ...    ...   \n",
       "2019-08-01       0.0  388.0              16.0         322.0   91.0   91.0   \n",
       "2019-09-01       1.0  435.0              28.0         330.0  103.0  103.0   \n",
       "2019-10-01       0.0  402.0              21.0         350.0  120.0  120.0   \n",
       "2019-11-01       2.0  407.0              16.0         376.0  108.0  108.0   \n",
       "2019-12-01       0.0  439.0              16.0         315.0  125.0  125.0   \n",
       "\n",
       "                                        ...                                 \\\n",
       "topic       Dask FastText Flair Gensim  ... regression scikit-learn  scipy   \n",
       "month                                   ...                                  \n",
       "2009-01-01   0.0      0.0   0.0    0.0  ...        1.0          0.0    2.0   \n",
       "2009-02-01   0.0      0.0   0.0    0.0  ...        3.0          0.0    3.0   \n",
       "2009-03-01   0.0      0.0   0.0    0.0  ...        0.0          0.0    2.0   \n",
       "2009-04-01   0.0      0.0   0.0    0.0  ...        0.0          0.0    3.0   \n",
       "2009-05-01   0.0      0.0   0.0    0.0  ...        2.0          0.0    2.0   \n",
       "...          ...      ...   ...    ...  ...        ...          ...    ...   \n",
       "2019-08-01  66.0      6.0   0.0   30.0  ...       60.0        323.0  212.0   \n",
       "2019-09-01  73.0     14.0   0.0   30.0  ...       76.0        324.0  135.0   \n",
       "2019-10-01  73.0     15.0   0.0   27.0  ...      125.0        415.0  188.0   \n",
       "2019-11-01  91.0     10.0   2.0   42.0  ...      137.0        412.0  199.0   \n",
       "2019-12-01  77.0      9.0   0.0   30.0  ...      134.0        439.0  159.0   \n",
       "\n",
       "                                                                        \\\n",
       "topic      scrapy seaborn spacy stanford-nlp stanford-nlp.1 tensorflow   \n",
       "month                                                                    \n",
       "2009-01-01    0.0     0.0   0.0          0.0            0.0        0.0   \n",
       "2009-02-01    0.0     0.0   0.0          0.0            0.0        0.0   \n",
       "2009-03-01    0.0     0.0   0.0          0.0            0.0        0.0   \n",
       "2009-04-01    0.0     0.0   0.0          0.0            0.0        0.0   \n",
       "2009-05-01    0.0     0.0   0.0          0.0            0.0        0.0   \n",
       "...           ...     ...   ...          ...            ...        ...   \n",
       "2019-08-01  205.0   119.0  76.0         24.0           22.0     1332.0   \n",
       "2019-09-01  146.0    90.0  62.0         16.0           15.0     1217.0   \n",
       "2019-10-01  165.0   130.0  79.0         27.0           27.0     1468.0   \n",
       "2019-11-01  176.0   133.0  79.0         14.0           14.0     1513.0   \n",
       "2019-12-01  140.0   112.0  72.0         13.0           13.0     1392.0   \n",
       "\n",
       "                        \n",
       "topic      time-series  \n",
       "month                   \n",
       "2009-01-01         1.0  \n",
       "2009-02-01         2.0  \n",
       "2009-03-01         1.0  \n",
       "2009-04-01         0.0  \n",
       "2009-05-01         0.0  \n",
       "...                ...  \n",
       "2019-08-01       141.0  \n",
       "2019-09-01       156.0  \n",
       "2019-10-01       203.0  \n",
       "2019-11-01       182.0  \n",
       "2019-12-01       185.0  \n",
       "\n",
       "[132 rows x 81 columns]"
      ]
     },
     "execution_count": 12,
     "metadata": {},
     "output_type": "execute_result"
    }
   ],
   "source": [
    "# Viewing the unstacked data prior to visualizing it\n",
    "df.unstack()"
   ]
  },
  {
   "cell_type": "code",
   "execution_count": 13,
   "id": "ce1e32d5",
   "metadata": {
    "ExecuteTime": {
     "end_time": "2023-03-13T17:54:28.944870Z",
     "start_time": "2023-03-13T17:54:28.572773Z"
    }
   },
   "outputs": [
    {
     "data": {
      "image/png": "[encoded data removed]",
      "text/plain": [
       "<Figure size 640x480 with 1 Axes>"
      ]
     },
     "metadata": {},
     "output_type": "display_data"
    }
   ],
   "source": [
    "# Unstacking and visualizing the full dataset (hiding the legend as it yields too many results)\n",
    "df.unstack().plot(legend = False);"
   ]
  },
  {
   "cell_type": "code",
   "execution_count": 14,
   "id": "a7572c9b",
   "metadata": {
    "ExecuteTime": {
     "end_time": "2023-03-13T17:54:29.034652Z",
     "start_time": "2023-03-13T17:54:28.946055Z"
    }
   },
   "outputs": [
    {
     "data": {
      "image/png": "[encoded data removed]",
      "text/plain": [
       "<Figure size 640x480 with 1 Axes>"
      ]
     },
     "metadata": {},
     "output_type": "display_data"
    }
   ],
   "source": [
    "# Visualizing the dataset just for the topic of \"python\"\n",
    "df.unstack()['questions']['python'].plot();"
   ]
  },
  {
   "cell_type": "markdown",
   "id": "8d402b33",
   "metadata": {},
   "source": [
    "Let's now massage the data to view it at a yearly level instead of the current timetable it is defaulted to."
   ]
  },
  {
   "cell_type": "code",
   "execution_count": 15,
   "id": "b7cdab20",
   "metadata": {
    "ExecuteTime": {
     "end_time": "2023-03-13T17:54:29.093468Z",
     "start_time": "2023-03-13T17:54:29.035578Z"
    }
   },
   "outputs": [
    {
     "data": {
      "image/png": "[encoded data removed]",
      "text/plain": [
       "<Figure size 640x480 with 1 Axes>"
      ]
     },
     "metadata": {},
     "output_type": "display_data"
    }
   ],
   "source": [
    "# Grabbing a temporary copy of the original dataset\n",
    "df_tmp = df.unstack()\n",
    "\n",
    "# Aggregating the data at a yearly level\n",
    "df_yearly = df_tmp.groupby(pd.Grouper(freq = '1Y')).sum()\n",
    "\n",
    "# Visualizing the data for the topic of Python at a yearly level\n",
    "df_yearly['questions']['python'].plot();"
   ]
  },
  {
   "cell_type": "markdown",
   "id": "9e1a6dd8",
   "metadata": {},
   "source": [
    "## Handling Gaps in Time Series Datasets\n",
    "As working with real data can be messy, we'll often find that there are missing gaps in time, which means we have to properly address filling these gaps. This can be done with Pandas' `reindex()` function. To simulate this with our own dataset here, we will be extending the date range six months beyond what is currently available."
   ]
  },
  {
   "cell_type": "code",
   "execution_count": 16,
   "id": "c6880cca",
   "metadata": {
    "ExecuteTime": {
     "end_time": "2023-03-13T17:54:29.097154Z",
     "start_time": "2023-03-13T17:54:29.094554Z"
    }
   },
   "outputs": [
    {
     "name": "stdout",
     "output_type": "stream",
     "text": [
      "Earliest date: 2009-01-01 00:00:00\n",
      "Latest date after 6 month add: 2020-06-04 00:00:00\n"
     ]
    }
   ],
   "source": [
    "# Getting the earliest date in the current date range\n",
    "min_date = df.index.get_level_values('month').min()\n",
    "\n",
    "# Getting the latest date and extending it out 6 months for simulation purposes\n",
    "max_date = df.index.get_level_values('month').max() + pd.Timedelta(days = 31 * 6)\n",
    "\n",
    "# Printing out the dates\n",
    "print(f'Earliest date: {min_date}')\n",
    "print(f'Latest date after 6 month add: {max_date}')"
   ]
  },
  {
   "cell_type": "code",
   "execution_count": 17,
   "id": "21df74d2",
   "metadata": {
    "ExecuteTime": {
     "end_time": "2023-03-13T17:54:29.100323Z",
     "start_time": "2023-03-13T17:54:29.097833Z"
    }
   },
   "outputs": [],
   "source": [
    "# Setting a date range that spans the full timeframe between min_date and max_date\n",
    "dates_to_select = pd.date_range(min_date, max_date, freq = '1MS')\n",
    "\n",
    "# Getting the unique values representing each individual topic\n",
    "topics = df.index.get_level_values('topic').unique()"
   ]
  },
  {
   "cell_type": "code",
   "execution_count": 18,
   "id": "30b5ab1d",
   "metadata": {
    "ExecuteTime": {
     "end_time": "2023-03-13T17:54:29.103473Z",
     "start_time": "2023-03-13T17:54:29.101238Z"
    }
   },
   "outputs": [],
   "source": [
    "# Getting all the combinations of our new dates and topics\n",
    "index_to_select = pd.MultiIndex.from_product([dates_to_select, topics], names = ['month', 'topic'])"
   ]
  },
  {
   "cell_type": "code",
   "execution_count": 19,
   "id": "99917fec",
   "metadata": {
    "ExecuteTime": {
     "end_time": "2023-03-13T17:54:29.162820Z",
     "start_time": "2023-03-13T17:54:29.104602Z"
    }
   },
   "outputs": [
    {
     "data": {
      "image/png": "[encoded data removed]",
      "text/plain": [
       "<Figure size 640x480 with 1 Axes>"
      ]
     },
     "metadata": {},
     "output_type": "display_data"
    }
   ],
   "source": [
    "# Visualizing the \"python\" topics once again with our new index\n",
    "df.reindex(index_to_select).unstack()['questions']['python'].plot();"
   ]
  },
  {
   "cell_type": "code",
   "execution_count": null,
   "id": "94d82178",
   "metadata": {},
   "outputs": [],
   "source": []
  }
 ],
 "metadata": {
  "kernelspec": {
   "display_name": "Python 3 (ipykernel)",
   "language": "python",
   "name": "python3"
  },
  "language_info": {
   "codemirror_mode": {
    "name": "ipython",
    "version": 3
   },
   "file_extension": ".py",
   "mimetype": "text/x-python",
   "name": "python",
   "nbconvert_exporter": "python",
   "pygments_lexer": "ipython3",
   "version": "3.10.7"
  }
 },
 "nbformat": 4,
 "nbformat_minor": 5
}
